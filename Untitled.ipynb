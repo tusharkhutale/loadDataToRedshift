{
 "cells": [
  {
   "cell_type": "code",
   "execution_count": 1,
   "metadata": {},
   "outputs": [
    {
     "name": "stdout",
     "output_type": "stream",
     "text": [
      "Collecting mysql.connector\n",
      "  Downloading mysql-connector-2.2.9.tar.gz (11.9 MB)\n",
      "  Preparing metadata (setup.py): started\n",
      "  Preparing metadata (setup.py): finished with status 'done'\n",
      "Building wheels for collected packages: mysql.connector\n",
      "  Building wheel for mysql.connector (setup.py): started\n",
      "  Building wheel for mysql.connector (setup.py): finished with status 'done'\n",
      "  Created wheel for mysql.connector: filename=mysql_connector-2.2.9-cp38-cp38-win_amd64.whl size=247947 sha256=0c17c0c8250ba6499c0259877857bbe7dd61467dbe39a42bbdec89d4194e8483\n",
      "  Stored in directory: c:\\users\\tushar\\appdata\\local\\pip\\cache\\wheels\\57\\e4\\98\\5feafb5c393dd2540e44b064a6f95832990d543e5b4f53ea8f\n",
      "Successfully built mysql.connector\n",
      "Installing collected packages: mysql.connector\n",
      "Successfully installed mysql.connector-2.2.9\n"
     ]
    },
    {
     "name": "stderr",
     "output_type": "stream",
     "text": [
      "WARNING: Ignoring invalid distribution - (c:\\programdata\\anaconda3\\lib\\site-packages)\n",
      "WARNING: Ignoring invalid distribution -eautifulsoup4 (c:\\programdata\\anaconda3\\lib\\site-packages)\n",
      "WARNING: Ignoring invalid distribution -cikit-learn (c:\\programdata\\anaconda3\\lib\\site-packages)\n",
      "WARNING: Ignoring invalid distribution - (c:\\programdata\\anaconda3\\lib\\site-packages)\n",
      "WARNING: Ignoring invalid distribution -eautifulsoup4 (c:\\programdata\\anaconda3\\lib\\site-packages)\n",
      "WARNING: Ignoring invalid distribution -cikit-learn (c:\\programdata\\anaconda3\\lib\\site-packages)\n",
      "WARNING: Ignoring invalid distribution - (c:\\programdata\\anaconda3\\lib\\site-packages)\n",
      "WARNING: Ignoring invalid distribution -eautifulsoup4 (c:\\programdata\\anaconda3\\lib\\site-packages)\n",
      "WARNING: Ignoring invalid distribution -cikit-learn (c:\\programdata\\anaconda3\\lib\\site-packages)\n",
      "WARNING: Ignoring invalid distribution - (c:\\programdata\\anaconda3\\lib\\site-packages)\n",
      "WARNING: Ignoring invalid distribution -eautifulsoup4 (c:\\programdata\\anaconda3\\lib\\site-packages)\n",
      "WARNING: Ignoring invalid distribution -cikit-learn (c:\\programdata\\anaconda3\\lib\\site-packages)\n",
      "WARNING: Ignoring invalid distribution - (c:\\programdata\\anaconda3\\lib\\site-packages)\n",
      "WARNING: Ignoring invalid distribution -eautifulsoup4 (c:\\programdata\\anaconda3\\lib\\site-packages)\n",
      "WARNING: Ignoring invalid distribution -cikit-learn (c:\\programdata\\anaconda3\\lib\\site-packages)\n",
      "WARNING: Ignoring invalid distribution - (c:\\programdata\\anaconda3\\lib\\site-packages)\n",
      "WARNING: Ignoring invalid distribution -eautifulsoup4 (c:\\programdata\\anaconda3\\lib\\site-packages)\n",
      "WARNING: Ignoring invalid distribution -cikit-learn (c:\\programdata\\anaconda3\\lib\\site-packages)\n"
     ]
    }
   ],
   "source": [
    "!pip install mysql.connector"
   ]
  },
  {
   "cell_type": "code",
   "execution_count": 2,
   "metadata": {},
   "outputs": [],
   "source": [
    "import mysql.connector"
   ]
  },
  {
   "cell_type": "code",
   "execution_count": 5,
   "metadata": {},
   "outputs": [],
   "source": [
    "conn = mysql.connector.connect(host='localhost', user='root',password='root', database='world')"
   ]
  },
  {
   "cell_type": "code",
   "execution_count": 7,
   "metadata": {},
   "outputs": [
    {
     "data": {
      "application/javascript": [
       "\n",
       "        if (window._pyforest_update_imports_cell) { window._pyforest_update_imports_cell('import pandas as pd'); }\n",
       "    "
      ],
      "text/plain": [
       "<IPython.core.display.Javascript object>"
      ]
     },
     "metadata": {},
     "output_type": "display_data"
    },
    {
     "data": {
      "text/html": [
       "<div>\n",
       "<style scoped>\n",
       "    .dataframe tbody tr th:only-of-type {\n",
       "        vertical-align: middle;\n",
       "    }\n",
       "\n",
       "    .dataframe tbody tr th {\n",
       "        vertical-align: top;\n",
       "    }\n",
       "\n",
       "    .dataframe thead th {\n",
       "        text-align: right;\n",
       "    }\n",
       "</style>\n",
       "<table border=\"1\" class=\"dataframe\">\n",
       "  <thead>\n",
       "    <tr style=\"text-align: right;\">\n",
       "      <th></th>\n",
       "      <th>ID</th>\n",
       "      <th>Name</th>\n",
       "      <th>CountryCode</th>\n",
       "      <th>District</th>\n",
       "      <th>Population</th>\n",
       "    </tr>\n",
       "  </thead>\n",
       "  <tbody>\n",
       "    <tr>\n",
       "      <th>0</th>\n",
       "      <td>1024</td>\n",
       "      <td>Mumbai (Bombay)</td>\n",
       "      <td>IND</td>\n",
       "      <td>Maharashtra</td>\n",
       "      <td>10500000</td>\n",
       "    </tr>\n",
       "    <tr>\n",
       "      <th>1</th>\n",
       "      <td>1025</td>\n",
       "      <td>Delhi</td>\n",
       "      <td>IND</td>\n",
       "      <td>Delhi</td>\n",
       "      <td>7206704</td>\n",
       "    </tr>\n",
       "    <tr>\n",
       "      <th>2</th>\n",
       "      <td>1026</td>\n",
       "      <td>Calcutta [Kolkata]</td>\n",
       "      <td>IND</td>\n",
       "      <td>West Bengali</td>\n",
       "      <td>4399819</td>\n",
       "    </tr>\n",
       "    <tr>\n",
       "      <th>3</th>\n",
       "      <td>1027</td>\n",
       "      <td>Chennai (Madras)</td>\n",
       "      <td>IND</td>\n",
       "      <td>Tamil Nadu</td>\n",
       "      <td>3841396</td>\n",
       "    </tr>\n",
       "    <tr>\n",
       "      <th>4</th>\n",
       "      <td>1028</td>\n",
       "      <td>Hyderabad</td>\n",
       "      <td>IND</td>\n",
       "      <td>Andhra Pradesh</td>\n",
       "      <td>2964638</td>\n",
       "    </tr>\n",
       "    <tr>\n",
       "      <th>...</th>\n",
       "      <td>...</td>\n",
       "      <td>...</td>\n",
       "      <td>...</td>\n",
       "      <td>...</td>\n",
       "      <td>...</td>\n",
       "    </tr>\n",
       "    <tr>\n",
       "      <th>336</th>\n",
       "      <td>1360</td>\n",
       "      <td>Ambala Sadar</td>\n",
       "      <td>IND</td>\n",
       "      <td>Haryana</td>\n",
       "      <td>90712</td>\n",
       "    </tr>\n",
       "    <tr>\n",
       "      <th>337</th>\n",
       "      <td>1361</td>\n",
       "      <td>Baidyabati</td>\n",
       "      <td>IND</td>\n",
       "      <td>West Bengali</td>\n",
       "      <td>90601</td>\n",
       "    </tr>\n",
       "    <tr>\n",
       "      <th>338</th>\n",
       "      <td>1362</td>\n",
       "      <td>Morvi</td>\n",
       "      <td>IND</td>\n",
       "      <td>Gujarat</td>\n",
       "      <td>90357</td>\n",
       "    </tr>\n",
       "    <tr>\n",
       "      <th>339</th>\n",
       "      <td>1363</td>\n",
       "      <td>Raigarh</td>\n",
       "      <td>IND</td>\n",
       "      <td>Chhatisgarh</td>\n",
       "      <td>89166</td>\n",
       "    </tr>\n",
       "    <tr>\n",
       "      <th>340</th>\n",
       "      <td>1364</td>\n",
       "      <td>Vejalpur</td>\n",
       "      <td>IND</td>\n",
       "      <td>Gujarat</td>\n",
       "      <td>89053</td>\n",
       "    </tr>\n",
       "  </tbody>\n",
       "</table>\n",
       "<p>341 rows × 5 columns</p>\n",
       "</div>"
      ],
      "text/plain": [
       "       ID                Name CountryCode        District  Population\n",
       "0    1024     Mumbai (Bombay)         IND     Maharashtra    10500000\n",
       "1    1025               Delhi         IND           Delhi     7206704\n",
       "2    1026  Calcutta [Kolkata]         IND    West Bengali     4399819\n",
       "3    1027    Chennai (Madras)         IND      Tamil Nadu     3841396\n",
       "4    1028           Hyderabad         IND  Andhra Pradesh     2964638\n",
       "..    ...                 ...         ...             ...         ...\n",
       "336  1360        Ambala Sadar         IND         Haryana       90712\n",
       "337  1361          Baidyabati         IND    West Bengali       90601\n",
       "338  1362               Morvi         IND         Gujarat       90357\n",
       "339  1363             Raigarh         IND     Chhatisgarh       89166\n",
       "340  1364            Vejalpur         IND         Gujarat       89053\n",
       "\n",
       "[341 rows x 5 columns]"
      ]
     },
     "execution_count": 7,
     "metadata": {},
     "output_type": "execute_result"
    }
   ],
   "source": [
    "pd.read_sql_query(\"select * from city where CountryCode like 'IND'\", conn)"
   ]
  },
  {
   "cell_type": "code",
   "execution_count": null,
   "metadata": {},
   "outputs": [],
   "source": []
  }
 ],
 "metadata": {
  "kernelspec": {
   "display_name": "Python 3",
   "language": "python",
   "name": "python3"
  },
  "language_info": {
   "codemirror_mode": {
    "name": "ipython",
    "version": 3
   },
   "file_extension": ".py",
   "mimetype": "text/x-python",
   "name": "python",
   "nbconvert_exporter": "python",
   "pygments_lexer": "ipython3",
   "version": "3.8.5"
  }
 },
 "nbformat": 4,
 "nbformat_minor": 4
}
